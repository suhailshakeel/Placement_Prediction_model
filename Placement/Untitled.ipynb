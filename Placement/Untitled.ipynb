{
 "cells": [
  {
   "cell_type": "code",
   "execution_count": 6,
   "id": "30240b9d",
   "metadata": {},
   "outputs": [
    {
     "ename": "ModuleNotFoundError",
     "evalue": "No module named 'Handling_missing_values'",
     "output_type": "error",
     "traceback": [
      "\u001b[1;31m---------------------------------------------------------------------------\u001b[0m",
      "\u001b[1;31mModuleNotFoundError\u001b[0m                       Traceback (most recent call last)",
      "Cell \u001b[1;32mIn[6], line 1\u001b[0m\n\u001b[1;32m----> 1\u001b[0m \u001b[38;5;28;01mfrom\u001b[39;00m \u001b[38;5;21;01mHandling_missing_values\u001b[39;00m\u001b[38;5;21;01m.\u001b[39;00m\u001b[38;5;21;01mipynb\u001b[39;00m \u001b[38;5;28;01mimport\u001b[39;00m lime_explain_instance\n\u001b[0;32m      3\u001b[0m \u001b[38;5;66;03m# Assuming X_train, instance, and dtc are defined\u001b[39;00m\n\u001b[0;32m      4\u001b[0m explanation_figure \u001b[38;5;241m=\u001b[39m lime_explain_instance(\u001b[38;5;241m3\u001b[39m)\n",
      "\u001b[1;31mModuleNotFoundError\u001b[0m: No module named 'Handling_missing_values'"
     ]
    }
   ],
   "source": [
    "from Handling_missing_values.ipynb import lime_explain_instance\n",
    "\n",
    "# Assuming X_train, instance, and dtc are defined\n",
    "explanation_figure = lime_explain_instance(3)\n",
    "\n",
    "# Display the figure\n",
    "plt.show()\n",
    "\n",
    "# Save the figure to a file (optional)\n",
    "explanation_figure.savefig('lime_explanation.png')"
   ]
  },
  {
   "cell_type": "code",
   "execution_count": 8,
   "id": "9cc043d9",
   "metadata": {},
   "outputs": [],
   "source": [
    "import joblib\n",
    "\n",
    "# Load the saved model from the file\n",
    "svc = joblib.load('svc_model.pkl')\n"
   ]
  },
  {
   "cell_type": "code",
   "execution_count": null,
   "id": "514ae492",
   "metadata": {},
   "outputs": [],
   "source": [
    "\n"
   ]
  }
 ],
 "metadata": {
  "kernelspec": {
   "display_name": "Python 3 (ipykernel)",
   "language": "python",
   "name": "python3"
  },
  "language_info": {
   "codemirror_mode": {
    "name": "ipython",
    "version": 3
   },
   "file_extension": ".py",
   "mimetype": "text/x-python",
   "name": "python",
   "nbconvert_exporter": "python",
   "pygments_lexer": "ipython3",
   "version": "3.9.0"
  }
 },
 "nbformat": 4,
 "nbformat_minor": 5
}
